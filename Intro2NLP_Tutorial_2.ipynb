{
 "cells": [
  {
   "cell_type": "markdown",
   "id": "4e7e3cb3",
   "metadata": {},
   "source": [
    "# Introduction to Natural Language Processing\n",
    "\n",
    "## Tutorial 1\n",
    "\n",
    "In our last session we could observe some functionality about jupyter notebooks: `?` and also `!` as well as how to `import` libraries and how the `\"hello world\"` in Python looks like. \n",
    "\n",
    "Today, we will take a look at a couple of more details. Jupyter Notebooks are very useful, given that they allow to execute code in cells. If you hit `shift + enter`, that will execute the current cell where you are located. Additionally, you can include only text in markdown language or html, as in this cell or you can run code as in some cells below.\n",
    "\n",
    "Let's begin..."
   ]
  },
  {
   "cell_type": "markdown",
   "id": "6f7d879f",
   "metadata": {},
   "source": [
    "# PYTHON BASICS"
   ]
  },
  {
   "cell_type": "markdown",
   "id": "9b6a8194",
   "metadata": {},
   "source": [
    "## Arrays and Hash Maps are called Lists and Dictionaries \n",
    "\n",
    "What we commonly know as an array is called in Python a list. Similarly we have also a dictionary as data structure which are like lookup tables. One interesting aspect here is that we can mix several types into this structures."
   ]
  },
  {
   "cell_type": "code",
   "execution_count": 9,
   "id": "59e5d310",
   "metadata": {},
   "outputs": [],
   "source": [
    "my_string = \"TEST ABC\"\n",
    "my_integer = 42\n",
    "my_slice = my_string[:3]\n",
    "my_float = 3.5"
   ]
  },
  {
   "cell_type": "code",
   "execution_count": 10,
   "id": "ec4c574a",
   "metadata": {},
   "outputs": [],
   "source": [
    "my_list = [my_string, my_integer, my_slice, my_float]"
   ]
  },
  {
   "cell_type": "code",
   "execution_count": 11,
   "id": "91c6ef4d",
   "metadata": {},
   "outputs": [
    {
     "name": "stdout",
     "output_type": "stream",
     "text": [
      "['TEST ABC', 42, 'TES', 3.5]\n"
     ]
    }
   ],
   "source": [
    "print(my_list)"
   ]
  },
  {
   "cell_type": "code",
   "execution_count": 12,
   "id": "ab92108a",
   "metadata": {},
   "outputs": [],
   "source": [
    "another_list = my_string.split(\" \") + my_list"
   ]
  },
  {
   "cell_type": "code",
   "execution_count": 13,
   "id": "a1c3fabe",
   "metadata": {},
   "outputs": [
    {
     "name": "stdout",
     "output_type": "stream",
     "text": [
      "['TEST', 'ABC', 'TEST ABC', 42, 'TES', 3.5]\n"
     ]
    }
   ],
   "source": [
    "print(another_list)"
   ]
  },
  {
   "cell_type": "code",
   "execution_count": 14,
   "id": "0f3fff08",
   "metadata": {},
   "outputs": [],
   "source": [
    "my_list.append(my_string.split(\" \"))"
   ]
  },
  {
   "cell_type": "code",
   "execution_count": 15,
   "id": "46e73aa6",
   "metadata": {},
   "outputs": [
    {
     "name": "stdout",
     "output_type": "stream",
     "text": [
      "['TEST ABC', 42, 'TES', 3.5, ['TEST', 'ABC']]\n"
     ]
    }
   ],
   "source": [
    "print(my_list)"
   ]
  },
  {
   "cell_type": "code",
   "execution_count": 20,
   "id": "7aa3cad2",
   "metadata": {},
   "outputs": [],
   "source": [
    "my_dict = {\"a\": 1, \"b\":2, \"c\": 3, \"d\": my_list}"
   ]
  },
  {
   "cell_type": "code",
   "execution_count": 21,
   "id": "f99cb9b7",
   "metadata": {},
   "outputs": [
    {
     "name": "stdout",
     "output_type": "stream",
     "text": [
      "{'a': 1, 'b': 2, 'c': 3, 'd': ['TEST ABC', 42, 'TES', 3.5, ['TEST', 'ABC']]}\n"
     ]
    }
   ],
   "source": [
    "print(my_dict)"
   ]
  },
  {
   "cell_type": "markdown",
   "id": "196d53c6",
   "metadata": {},
   "source": [
    "## Defining Functions\n",
    "\n",
    "Here we can start giving instructions and creating a recipe of what we want to obtain.\n",
    "\n",
    "Let's say that we want a function to return always the last letter of a word in a string"
   ]
  },
  {
   "cell_type": "code",
   "execution_count": 24,
   "id": "d2d810ce",
   "metadata": {},
   "outputs": [],
   "source": [
    "this_string = \"Introduction to Natural Language Processing, tutorial two\""
   ]
  },
  {
   "cell_type": "code",
   "execution_count": 31,
   "id": "74037b0b",
   "metadata": {},
   "outputs": [],
   "source": [
    "def extract_last_letter(any_string):\n",
    "    # here comes your code\n",
    "    return letter_list"
   ]
  },
  {
   "cell_type": "code",
   "execution_count": 32,
   "id": "e1bd0a1a",
   "metadata": {},
   "outputs": [],
   "source": [
    "my_letter_list = extract_last_letter(this_string)"
   ]
  },
  {
   "cell_type": "code",
   "execution_count": 33,
   "id": "526e9100",
   "metadata": {},
   "outputs": [
    {
     "name": "stdout",
     "output_type": "stream",
     "text": [
      "['n', 'o', 'l', 'e', ',', 'l', 'o']\n"
     ]
    }
   ],
   "source": [
    "print(my_letter_list)"
   ]
  },
  {
   "cell_type": "markdown",
   "id": "eac73fe6",
   "metadata": {},
   "source": [
    "## It's time for you to play around\n",
    "\n",
    "Create a function that returns every word in a string in lowercase and and another one for uppercase\n",
    "\n",
    "**Hint:** explore the funtions `upper` and `lower`"
   ]
  },
  {
   "cell_type": "code",
   "execution_count": null,
   "id": "637fc32e",
   "metadata": {},
   "outputs": [],
   "source": [
    "def return_lower(any_string):\n",
    "    # here comes your code"
   ]
  },
  {
   "cell_type": "code",
   "execution_count": null,
   "id": "8d7b7637",
   "metadata": {},
   "outputs": [],
   "source": [
    "print(return_lower(this_string))"
   ]
  },
  {
   "cell_type": "code",
   "execution_count": null,
   "id": "c599e938",
   "metadata": {},
   "outputs": [],
   "source": [
    "def return_upper(any_string):\n",
    "    # here comes your code"
   ]
  },
  {
   "cell_type": "code",
   "execution_count": null,
   "id": "f0b8fd1e",
   "metadata": {},
   "outputs": [],
   "source": [
    "print(return_upper(this_string))"
   ]
  },
  {
   "cell_type": "markdown",
   "id": "f32af0cd",
   "metadata": {},
   "source": [
    "## Iterating\n",
    "\n",
    "There are several ways of iterating, you can use the `enumerate()` method or you can combine `for`, `range` and the \n",
    "`length` of your type. Please make sure that you use meaningful names here. \n",
    "\n",
    "Let's look at an example let's create a function that returns a mapping of each word in a string and it's index"
   ]
  },
  {
   "cell_type": "code",
   "execution_count": 34,
   "id": "2bb4fac7",
   "metadata": {},
   "outputs": [],
   "source": [
    "def map_word_to_index(any_string):\n",
    "    word_list = any_string.split(\" \")\n",
    "    my_mapping = {}\n",
    "    for index in range(len(word_list)):\n",
    "        my_mapping[word_list[index]] = index\n",
    "    return my_mapping"
   ]
  },
  {
   "cell_type": "code",
   "execution_count": 35,
   "id": "9a026ddd",
   "metadata": {},
   "outputs": [
    {
     "name": "stdout",
     "output_type": "stream",
     "text": [
      "{'Introduction': 0, 'to': 1, 'Natural': 2, 'Language': 3, 'Processing,': 4, 'tutorial': 5, 'two': 6}\n"
     ]
    }
   ],
   "source": [
    "print(map_word_to_index(this_string))"
   ]
  },
  {
   "cell_type": "markdown",
   "id": "ba272103",
   "metadata": {},
   "source": [
    "Now: try to explore the `enumerate()` method and write a similar function to return a list with only words with *even* indexes."
   ]
  },
  {
   "cell_type": "code",
   "execution_count": null,
   "id": "29e997af",
   "metadata": {
    "scrolled": true
   },
   "outputs": [],
   "source": [
    "def extract_even_words(any_string):\n",
    "    # here comes your code"
   ]
  },
  {
   "cell_type": "code",
   "execution_count": 36,
   "id": "cc9e2b22",
   "metadata": {},
   "outputs": [],
   "source": [
    "def extract_even_words(any_string):\n",
    "    # here comes your code\n",
    "    return mapping"
   ]
  },
  {
   "cell_type": "code",
   "execution_count": 37,
   "id": "1d994620",
   "metadata": {},
   "outputs": [
    {
     "name": "stdout",
     "output_type": "stream",
     "text": [
      "['Introduction', 'Natural', 'Processing,', 'two']\n"
     ]
    }
   ],
   "source": [
    "print(extract_even_words(this_string))"
   ]
  },
  {
   "cell_type": "markdown",
   "id": "5c7c5e2b",
   "metadata": {},
   "source": [
    "## Reading text files\n",
    "\n",
    "We want to know is how to read files in Python. There are several posibilities of using `open()`, which is the function to work with files. My favorite is to use `with` as a safe option."
   ]
  },
  {
   "cell_type": "code",
   "execution_count": 39,
   "id": "3f714a2d",
   "metadata": {},
   "outputs": [
    {
     "name": "stdout",
     "output_type": "stream",
     "text": [
      "Play Services bittet User um Erlaubnis für:\\n\\n* Before starting to scan for and broadcast beacons.\\n* Before providing user keys to the app for uploading to the […] server once the user has been positively diagnosed with COVID-19.\\n\\n#CoronaApp dürfte das nicht verhindern können!\n"
     ]
    }
   ],
   "source": [
    "with open(\"tweet.txt\", 'r') as my_file:\n",
    "    for line in my_file:\n",
    "        print(line)"
   ]
  },
  {
   "cell_type": "markdown",
   "id": "0be0abcd",
   "metadata": {},
   "source": [
    "## Reading csv files\n",
    "\n",
    "Take the survey.csv file as an example ..."
   ]
  },
  {
   "cell_type": "code",
   "execution_count": 2,
   "id": "e14ca903",
   "metadata": {},
   "outputs": [],
   "source": [
    "import pandas as pd"
   ]
  },
  {
   "cell_type": "code",
   "execution_count": 42,
   "id": "4617b893",
   "metadata": {},
   "outputs": [
    {
     "data": {
      "text/html": [
       "<div>\n",
       "<style scoped>\n",
       "    .dataframe tbody tr th:only-of-type {\n",
       "        vertical-align: middle;\n",
       "    }\n",
       "\n",
       "    .dataframe tbody tr th {\n",
       "        vertical-align: top;\n",
       "    }\n",
       "\n",
       "    .dataframe thead th {\n",
       "        text-align: right;\n",
       "    }\n",
       "</style>\n",
       "<table border=\"1\" class=\"dataframe\">\n",
       "  <thead>\n",
       "    <tr style=\"text-align: right;\">\n",
       "      <th></th>\n",
       "      <th>Alias</th>\n",
       "      <th>MSc. or BSc.</th>\n",
       "      <th>Study Program</th>\n",
       "      <th>Level of Experience (0 - 5) (Python)</th>\n",
       "      <th>Level of Experience (0 - 5) (Programming)</th>\n",
       "      <th>ML or AI Course? (ML/ AI/ None)</th>\n",
       "      <th>Where are you? (City)</th>\n",
       "    </tr>\n",
       "  </thead>\n",
       "  <tbody>\n",
       "    <tr>\n",
       "      <th>0</th>\n",
       "      <td>NaN</td>\n",
       "      <td>NaN</td>\n",
       "      <td>NaN</td>\n",
       "      <td>NaN</td>\n",
       "      <td>NaN</td>\n",
       "      <td>NaN</td>\n",
       "      <td>NaN</td>\n",
       "    </tr>\n",
       "    <tr>\n",
       "      <th>1</th>\n",
       "      <td>Marvin</td>\n",
       "      <td>BSc.</td>\n",
       "      <td>Data Science</td>\n",
       "      <td>2.0</td>\n",
       "      <td>3.0</td>\n",
       "      <td>None</td>\n",
       "      <td>Marburg</td>\n",
       "    </tr>\n",
       "    <tr>\n",
       "      <th>2</th>\n",
       "      <td>Sofía</td>\n",
       "      <td>BSc.</td>\n",
       "      <td>Informatik</td>\n",
       "      <td>1.0</td>\n",
       "      <td>4.0</td>\n",
       "      <td>None</td>\n",
       "      <td>Marburg</td>\n",
       "    </tr>\n",
       "    <tr>\n",
       "      <th>3</th>\n",
       "      <td>Buski</td>\n",
       "      <td>MSc.</td>\n",
       "      <td>Wirtschaftsinformatik</td>\n",
       "      <td>0.0</td>\n",
       "      <td>3.0</td>\n",
       "      <td>None</td>\n",
       "      <td>Marburg</td>\n",
       "    </tr>\n",
       "    <tr>\n",
       "      <th>4</th>\n",
       "      <td>Luckhard</td>\n",
       "      <td>MSc.</td>\n",
       "      <td>Data Science</td>\n",
       "      <td>3.0</td>\n",
       "      <td>4.0</td>\n",
       "      <td>ML</td>\n",
       "      <td>Hersfeld</td>\n",
       "    </tr>\n",
       "    <tr>\n",
       "      <th>5</th>\n",
       "      <td>Neufeld</td>\n",
       "      <td>MSc.</td>\n",
       "      <td>Informatik</td>\n",
       "      <td>2.0</td>\n",
       "      <td>4.0</td>\n",
       "      <td>ML</td>\n",
       "      <td>Marburg</td>\n",
       "    </tr>\n",
       "    <tr>\n",
       "      <th>6</th>\n",
       "      <td>Dzenana</td>\n",
       "      <td>MSc.</td>\n",
       "      <td>Informatik</td>\n",
       "      <td>4.0</td>\n",
       "      <td>4.0</td>\n",
       "      <td>ML&amp;AI</td>\n",
       "      <td>Marburg</td>\n",
       "    </tr>\n",
       "    <tr>\n",
       "      <th>7</th>\n",
       "      <td>Balow</td>\n",
       "      <td>MSc.</td>\n",
       "      <td>Wirtschaftsinformatik</td>\n",
       "      <td>0.0</td>\n",
       "      <td>3.0</td>\n",
       "      <td>None</td>\n",
       "      <td>Marburg</td>\n",
       "    </tr>\n",
       "    <tr>\n",
       "      <th>8</th>\n",
       "      <td>Marius</td>\n",
       "      <td>MSc.</td>\n",
       "      <td>Data Science</td>\n",
       "      <td>1.0</td>\n",
       "      <td>3.0</td>\n",
       "      <td>ML</td>\n",
       "      <td>Marburg</td>\n",
       "    </tr>\n",
       "    <tr>\n",
       "      <th>9</th>\n",
       "      <td>Ihsan</td>\n",
       "      <td>MSc.</td>\n",
       "      <td>Wirtschaftsinformatik</td>\n",
       "      <td>2.0</td>\n",
       "      <td>2.0</td>\n",
       "      <td>ML &amp; AI</td>\n",
       "      <td>Marburg</td>\n",
       "    </tr>\n",
       "  </tbody>\n",
       "</table>\n",
       "</div>"
      ],
      "text/plain": [
       "      Alias MSc. or BSc.          Study Program  \\\n",
       "0       NaN          NaN                    NaN   \n",
       "1    Marvin         BSc.           Data Science   \n",
       "2     Sofía         BSc.             Informatik   \n",
       "3     Buski         MSc.  Wirtschaftsinformatik   \n",
       "4  Luckhard         MSc.           Data Science   \n",
       "5   Neufeld         MSc.             Informatik   \n",
       "6   Dzenana         MSc.             Informatik   \n",
       "7     Balow         MSc.  Wirtschaftsinformatik   \n",
       "8    Marius         MSc.           Data Science   \n",
       "9     Ihsan         MSc.  Wirtschaftsinformatik   \n",
       "\n",
       "   Level of Experience (0 - 5) (Python)  \\\n",
       "0                                   NaN   \n",
       "1                                   2.0   \n",
       "2                                   1.0   \n",
       "3                                   0.0   \n",
       "4                                   3.0   \n",
       "5                                   2.0   \n",
       "6                                   4.0   \n",
       "7                                   0.0   \n",
       "8                                   1.0   \n",
       "9                                   2.0   \n",
       "\n",
       "   Level of Experience (0 - 5) (Programming) ML or AI Course? (ML/ AI/ None)  \\\n",
       "0                                        NaN                             NaN   \n",
       "1                                        3.0                            None   \n",
       "2                                        4.0                            None   \n",
       "3                                        3.0                            None   \n",
       "4                                        4.0                              ML   \n",
       "5                                        4.0                              ML   \n",
       "6                                        4.0                           ML&AI   \n",
       "7                                        3.0                            None   \n",
       "8                                        3.0                              ML   \n",
       "9                                        2.0                         ML & AI   \n",
       "\n",
       "  Where are you? (City)  \n",
       "0                   NaN  \n",
       "1               Marburg  \n",
       "2               Marburg  \n",
       "3               Marburg  \n",
       "4              Hersfeld  \n",
       "5               Marburg  \n",
       "6               Marburg  \n",
       "7               Marburg  \n",
       "8               Marburg  \n",
       "9               Marburg  "
      ]
     },
     "execution_count": 42,
     "metadata": {},
     "output_type": "execute_result"
    }
   ],
   "source": [
    "# here comes your code\n",
    "\n",
    "df = pd.read_csv(\"Survey.csv\")\n",
    "df.head(10)"
   ]
  },
  {
   "cell_type": "code",
   "execution_count": null,
   "id": "554923c6",
   "metadata": {},
   "outputs": [],
   "source": []
  }
 ],
 "metadata": {
  "kernelspec": {
   "display_name": "Python 3 (ipykernel)",
   "language": "python",
   "name": "python3"
  },
  "language_info": {
   "codemirror_mode": {
    "name": "ipython",
    "version": 3
   },
   "file_extension": ".py",
   "mimetype": "text/x-python",
   "name": "python",
   "nbconvert_exporter": "python",
   "pygments_lexer": "ipython3",
   "version": "3.11.0"
  }
 },
 "nbformat": 4,
 "nbformat_minor": 5
}
